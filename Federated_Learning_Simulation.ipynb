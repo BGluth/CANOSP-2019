{
 "cells": [
  {
   "cell_type": "code",
   "execution_count": 1,
   "metadata": {
    "colab": {},
    "colab_type": "code",
    "id": "OsHSQ1TEXDNZ"
   },
   "outputs": [],
   "source": [
    "from sklearn.linear_model import SGDClassifier\n",
    "import numpy as np"
   ]
  },
  {
   "cell_type": "markdown",
   "metadata": {
    "colab_type": "text",
    "id": "RfZrf09ZofuP"
   },
   "source": [
    "## Client Update\n"
   ]
  },
  {
   "cell_type": "code",
   "execution_count": 4,
   "metadata": {
    "colab": {
     "base_uri": "https://localhost:8080/",
     "height": 394
    },
    "colab_type": "code",
    "id": "fZj9flYHXNd4",
    "outputId": "09beecb0-cd45-46d6-9932-77cef46d5044"
   },
   "outputs": [
    {
     "name": "stdout",
     "output_type": "stream",
     "text": [
      "Features:  [[[1, 4, 3], [0, 2, 2], [1, 4, 0]], [[0, 5, 3], [1, 2, 1], [0, 2, 9]]]\n",
      "Labels:  [[1, 0, 1], [0, 1, 0]]\n",
      "[[1, 4, 3], [0, 2, 2], [1, 4, 0]] [1, 0, 1] [29.0, 0.0, 0.0, -9]\n",
      "[[0, 5, 3], [1, 2, 1], [0, 2, 9]] [0, 1, 0] [28.91317365  0.          0.         -9.        ]\n",
      "[[1, 4, 3], [0, 2, 2], [1, 4, 0]] [1, 0, 1] [28.82660726  0.          0.         -9.        ]\n",
      "[[0, 5, 3], [1, 2, 1], [0, 2, 9]] [0, 1, 0] [28.74030006  0.          0.         -9.        ]\n",
      "[[1, 4, 3], [0, 2, 2], [1, 4, 0]] [1, 0, 1] [28.65425125  0.          0.         -9.        ]\n",
      "[[0, 5, 3], [1, 2, 1], [0, 2, 9]] [0, 1, 0] [28.56846008  0.          0.         -9.        ]\n",
      "[28.48292577  0.          0.         -9.        ]\n"
     ]
    },
    {
     "name": "stderr",
     "output_type": "stream",
     "text": [
      "/usr/local/lib/python3.7/site-packages/sklearn/linear_model/stochastic_gradient.py:561: ConvergenceWarning: Maximum number of iteration reached before convergence. Consider increasing max_iter to improve the fit.\n",
      "  ConvergenceWarning)\n",
      "/usr/local/lib/python3.7/site-packages/sklearn/linear_model/stochastic_gradient.py:561: ConvergenceWarning: Maximum number of iteration reached before convergence. Consider increasing max_iter to improve the fit.\n",
      "  ConvergenceWarning)\n",
      "/usr/local/lib/python3.7/site-packages/sklearn/linear_model/stochastic_gradient.py:561: ConvergenceWarning: Maximum number of iteration reached before convergence. Consider increasing max_iter to improve the fit.\n",
      "  ConvergenceWarning)\n",
      "/usr/local/lib/python3.7/site-packages/sklearn/linear_model/stochastic_gradient.py:561: ConvergenceWarning: Maximum number of iteration reached before convergence. Consider increasing max_iter to improve the fit.\n",
      "  ConvergenceWarning)\n",
      "/usr/local/lib/python3.7/site-packages/sklearn/linear_model/stochastic_gradient.py:561: ConvergenceWarning: Maximum number of iteration reached before convergence. Consider increasing max_iter to improve the fit.\n",
      "  ConvergenceWarning)\n",
      "/usr/local/lib/python3.7/site-packages/sklearn/linear_model/stochastic_gradient.py:561: ConvergenceWarning: Maximum number of iteration reached before convergence. Consider increasing max_iter to improve the fit.\n",
      "  ConvergenceWarning)\n"
     ]
    }
   ],
   "source": [
    "def client_update(init_weights, epochs, batch_size, features, labels):\n",
    "    \"\"\"\n",
    "    Given the previous weights from the server, it does updates on the model\n",
    "    and returns the new set of weights\n",
    "\n",
    "    init_weights: weights to initialize the training with \n",
    "        ex: [coef1, coef2, ..., coefn, intercept]\n",
    "    epochs: number of epochs to run the training for \n",
    "    batch_size: the size of each batch of data while training \n",
    "    features: a 2D array containing features for each sample \n",
    "        ex: [[feature1, feature2], [feature1, feature2], ...]\n",
    "    label: an array containing the labels for the corresponding sample in \"features\"\n",
    "        ex: [label1, label2, ...]\n",
    "    \"\"\"\n",
    "    \n",
    "    # split the data into batches by given batch_size\n",
    "    # TODO: need to ensure that a batch doesn't just contain 1 label\n",
    "    batches_features = []\n",
    "    batches_labels = []\n",
    "    \n",
    "    for i in range(0, len(features), batch_size):\n",
    "      batches_features.append(features[i:i + batch_size])\n",
    "      batches_labels.append(labels[i:i + batch_size])\n",
    "      # TODO: merge the features and labels into one tuple?\n",
    "    \n",
    "    print(\"Features: \", batches_features)\n",
    "    print(\"Labels: \", batches_labels)\n",
    "\n",
    "    weights = list(init_weights)\n",
    "    \n",
    "    # set max_iter to 1 so that each .fit() call only does one training step\n",
    "    classifier = SGDClassifier(loss=\"hinge\", penalty=\"l2\", max_iter=1)\n",
    "\n",
    "    for epoch in range(epochs):\n",
    "        for i in range(len(batches_features)):\n",
    "            print(batches_features[i], batches_labels[i], weights)\n",
    "            \n",
    "            classifier.fit(batches_features[i],\n",
    "                           batches_labels[i],\n",
    "                           coef_init=weights[:-1],\n",
    "                           intercept_init=weights[-1])\n",
    "            \n",
    "            # update the weights so for the next batch the new ones are used\n",
    "            weights = np.append(classifier.coef_[0], classifier.intercept_)\n",
    "            \n",
    "    return weights\n",
    "\n",
    "# Example usage\n",
    "\n",
    "# this data will be provided by the server\n",
    "features = [[1, 4, 3], [0, 2, 2], [1, 4, 0], [0, 5, 3], [1, 2, 1], [0, 2, 9]]\n",
    "labels = [1, 0, 1, 0, 1, 0]\n",
    "weights = [29., 0., 0., -9]\n",
    "epochs = 3\n",
    "batch_size = 3\n",
    "\n",
    "new_weights = client_update(weights, epochs, batch_size, features, labels)\n",
    "print(new_weights)"
   ]
  }
 ],
 "metadata": {
  "accelerator": "GPU",
  "colab": {
   "name": "Federated Learning Simulation.ipynb",
   "provenance": [],
   "version": "0.3.2"
  },
  "kernelspec": {
   "display_name": "Python 3",
   "language": "python",
   "name": "python3"
  },
  "language_info": {
   "codemirror_mode": {
    "name": "ipython",
    "version": 3
   },
   "file_extension": ".py",
   "mimetype": "text/x-python",
   "name": "python",
   "nbconvert_exporter": "python",
   "pygments_lexer": "ipython3",
   "version": "3.7.3"
  }
 },
 "nbformat": 4,
 "nbformat_minor": 1
}
