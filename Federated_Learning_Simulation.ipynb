{
 "cells": [
  {
   "cell_type": "code",
   "execution_count": 1,
   "metadata": {
    "colab": {},
    "colab_type": "code",
    "id": "OsHSQ1TEXDNZ"
   },
   "outputs": [],
   "source": [
    "from sklearn.linear_model import SGDClassifier\n",
    "import numpy as np\n",
    "from simulation_util import client_update\n",
    "import warnings\n",
    "\n",
    "# hide the warning message temporarily\n",
    "warnings.simplefilter(\"ignore\")"
   ]
  },
  {
   "cell_type": "markdown",
   "metadata": {
    "colab_type": "text",
    "id": "RfZrf09ZofuP"
   },
   "source": [
    "## Client Update Example"
   ]
  },
  {
   "cell_type": "code",
   "execution_count": 2,
   "metadata": {
    "colab": {
     "base_uri": "https://localhost:8080/",
     "height": 394
    },
    "colab_type": "code",
    "id": "fZj9flYHXNd4",
    "outputId": "09beecb0-cd45-46d6-9932-77cef46d5044",
    "scrolled": false
   },
   "outputs": [
    {
     "name": "stdout",
     "output_type": "stream",
     "text": [
      "[28.48292577  0.          0.         -9.        ]\n"
     ]
    }
   ],
   "source": [
    "# this data will be provided by the server\n",
    "features = [[1, 4, 3], [0, 2, 2], [1, 4, 0], [0, 5, 3], [1, 2, 1], [0, 2, 9]]\n",
    "labels = [1, 0, 1, 0, 1, 0]\n",
    "weights = [29., 0., 0., -9]\n",
    "epochs = 3\n",
    "batch_size = 3\n",
    "\n",
    "new_weights = client_update(weights, epochs, batch_size, features, labels)\n",
    "print(new_weights)"
   ]
  },
  {
   "cell_type": "markdown",
   "metadata": {},
   "source": [
    "## Server Update Example"
   ]
  },
  {
   "cell_type": "code",
   "execution_count": 3,
   "metadata": {},
   "outputs": [
    {
     "name": "stdout",
     "output_type": "stream",
     "text": [
      "[-5.27111753 -6.03344024 -1.26451517  5.21284141]\n",
      "[-10.40561087  -2.73003531   3.42485229   3.74318286]\n",
      "[-18.47873494  -2.71703106   3.14291944   4.18521965]\n",
      "[ 4.29090589 -2.76024704  6.6403375   5.77258637]\n",
      "[-2.92563544 -3.48971157  5.95942579  4.66671478]\n",
      "[-5.89886331 -2.25425103  2.85204615  5.67661476]\n",
      "[-12.00879624   4.71881083   3.3154799   11.21398267]\n",
      "[-0.90618671 -3.53589611 -2.99410999 11.20828084]\n",
      "[-6.40817038e+00  5.97501986e-03 -3.68219429e+00  7.45358790e+00]\n",
      "[-7.31321881  4.35902824  5.29793986 10.22542928]\n"
     ]
    }
   ],
   "source": [
    "import numpy as np\n",
    "from simulation_util import server_update\n",
    "\n",
    "init_weights = [0, 0, 0, 0]\n",
    "client_fraction = 0.5\n",
    "num_rounds = 10\n",
    "epoch = 10\n",
    "batch_size = 25\n",
    "display_weight_per_round = True\n",
    "\n",
    "num_client = 100\n",
    "samples_per_client = 100\n",
    "num_features = 3\n",
    "features = np.random.randint(10, size=(num_client, samples_per_client, num_features))\n",
    "labels = np.random.randint(2, size=(num_client, samples_per_client))\n",
    "\n",
    "new_clf = server_update(init_weights, client_fraction, num_rounds, features, labels, epoch, batch_size,display_weight_per_round)"
   ]
  },
  {
   "cell_type": "markdown",
   "metadata": {
    "collapsed": true
   },
   "source": [
    "## Simulation Runner"
   ]
  },
  {
   "cell_type": "code",
   "execution_count": 18,
   "metadata": {},
   "outputs": [
    {
     "name": "stdout",
     "output_type": "stream",
     "text": [
      "Training...\n",
      "Params: {'batch_size': 10, 'client_fraction': 1, 'epoch': 1, 'init_weight': [0, 0, 0, 0], 'num_rounds': 10}\n",
      "Weights: [-8.59111289  1.00285832  0.62804378  9.65258255]\n",
      "Score: 0.514167\n",
      "\n",
      "\n",
      "Training...\n",
      "Params: {'batch_size': 10, 'client_fraction': 1, 'epoch': 5, 'init_weight': [0, 0, 0, 0], 'num_rounds': 10}\n",
      "Weights: [-35.72637181   2.37731063  -6.97718222  19.12348851]\n",
      "Score: 0.516667\n",
      "\n",
      "\n",
      "Training...\n",
      "Params: {'batch_size': 10, 'client_fraction': 0.1, 'epoch': 1, 'init_weight': [0, 0, 0, 0], 'num_rounds': 10}\n",
      "Weights: [-11.10606145  13.24916061   4.28436622   5.8812667 ]\n",
      "Score: 0.495000\n",
      "\n",
      "\n",
      "Training...\n",
      "Params: {'batch_size': 10, 'client_fraction': 0.1, 'epoch': 5, 'init_weight': [0, 0, 0, 0], 'num_rounds': 10}\n",
      "Weights: [-17.09368224   6.56114505  -5.77294448  30.82105817]\n",
      "Score: 0.522500\n",
      "\n",
      "\n",
      "Training...\n",
      "Params: {'batch_size': 30, 'client_fraction': 1, 'epoch': 1, 'init_weight': [0, 0, 0, 0], 'num_rounds': 10}\n",
      "Weights: [-15.41777389   3.33090215   8.43906073  11.31690942]\n",
      "Score: 0.504167\n",
      "\n",
      "\n",
      "Training...\n",
      "Params: {'batch_size': 30, 'client_fraction': 1, 'epoch': 5, 'init_weight': [0, 0, 0, 0], 'num_rounds': 10}\n",
      "Weights: [-21.24979009   7.81832622 -10.67247532  21.11100804]\n",
      "Score: 0.514167\n",
      "\n",
      "\n",
      "Training...\n",
      "Params: {'batch_size': 30, 'client_fraction': 0.1, 'epoch': 1, 'init_weight': [0, 0, 0, 0], 'num_rounds': 10}\n",
      "Weights: [-6.40193185  2.35533279  8.16717148 10.0528791 ]\n",
      "Score: 0.484167\n",
      "\n",
      "\n",
      "Training...\n",
      "Params: {'batch_size': 30, 'client_fraction': 0.1, 'epoch': 5, 'init_weight': [0, 0, 0, 0], 'num_rounds': 10}\n",
      "Weights: [-20.58216104   0.2993559    7.03138062  19.36803632]\n",
      "Score: 0.513333\n",
      "\n",
      "\n"
     ]
    }
   ],
   "source": [
    "from sklearn.model_selection import ParameterGrid, train_test_split\n",
    "import numpy as np\n",
    "\n",
    "# Load the data\n",
    "num_client = 100\n",
    "samples_per_client = 30\n",
    "num_features = 3\n",
    "features = np.random.randint(10, size=(num_client, samples_per_client, num_features))\n",
    "labels = np.random.randint(2, size=(num_client, samples_per_client))\n",
    "\n",
    "# Split the data into training and testing sets\n",
    "X_train, X_test, y_train, y_test = train_test_split(features, labels, test_size=0.4, random_state=0)\n",
    "\n",
    "# Find all the permutations of the parameters\n",
    "param_grid = {\"client_fraction\": [1, 0.1],\n",
    "              \"epoch\": [1, 5],\n",
    "              \"batch_size\": [10, samples_per_client],\n",
    "              \"init_weight\": [[0,0,0,0]],\n",
    "              \"num_rounds\": [10]}\n",
    "\n",
    "# run training/testing over all parameter combinations to get the best combination\n",
    "for params in ParameterGrid(param_grid):\n",
    "    print(\"Training...\")\n",
    "    classifier = server_update(params[\"init_weight\"], params[\"client_fraction\"], params[\"num_rounds\"], X_train, y_train, params[\"epoch\"], params[\"batch_size\"], False)\n",
    "    weights = np.append(classifier.coef_[0], classifier.intercept_)\n",
    "\n",
    "    # need to remove the client dimension from our data for testing \n",
    "    # ex: [[[1, 1], [2, 2]], [[3, 3], [4, 4]]] needs to become [[1, 1], [2, 2], [3, 3], [4, 4]] for features \n",
    "    # and [[1, 2], [3, 4]] needs to become [1, 2, 3, 4] for labels \n",
    "    reshaped_X_test = np.reshape(X_test, (X_test.shape[0] * X_test.shape[1], X_test.shape[2]))\n",
    "    reshaped_y_test = np.reshape(y_test, y_test.size)\n",
    "    \n",
    "    score = classifier.score(reshaped_X_test, reshaped_y_test)\n",
    "\n",
    "    print('Params: {}\\nWeights: {}\\nScore: {:f}\\n\\n'.format(params, weights, score))"
   ]
  },
  {
   "cell_type": "code",
   "execution_count": null,
   "metadata": {},
   "outputs": [],
   "source": []
  },
  {
   "cell_type": "code",
   "execution_count": null,
   "metadata": {},
   "outputs": [],
   "source": []
  }
 ],
 "metadata": {
  "accelerator": "GPU",
  "colab": {
   "name": "Federated Learning Simulation.ipynb",
   "provenance": [],
   "version": "0.3.2"
  },
  "kernelspec": {
   "display_name": "Python 3",
   "language": "python",
   "name": "python3"
  },
  "language_info": {
   "codemirror_mode": {
    "name": "ipython",
    "version": 3
   },
   "file_extension": ".py",
   "mimetype": "text/x-python",
   "name": "python",
   "nbconvert_exporter": "python",
   "pygments_lexer": "ipython3",
   "version": "3.7.3"
  }
 },
 "nbformat": 4,
 "nbformat_minor": 1
}
