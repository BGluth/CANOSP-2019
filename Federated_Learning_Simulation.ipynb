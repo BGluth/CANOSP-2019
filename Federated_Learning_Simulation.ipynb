{
 "cells": [
  {
   "cell_type": "code",
   "execution_count": 1,
   "metadata": {
    "colab": {},
    "colab_type": "code",
    "id": "OsHSQ1TEXDNZ"
   },
   "outputs": [],
   "source": [
    "from sklearn.linear_model import SGDClassifier\n",
    "import numpy as np\n",
    "from simulation_util import client_update\n",
    "import warnings\n",
    "\n",
    "# hide the warning message temporarily\n",
    "warnings.simplefilter(\"ignore\")\n",
    "\n",
    "# auto-reload the modules everytime a cell is run\n",
    "%load_ext autoreload\n",
    "%autoreload 2"
   ]
  },
  {
   "cell_type": "markdown",
   "metadata": {
    "colab_type": "text",
    "id": "RfZrf09ZofuP"
   },
   "source": [
    "## Client Update Example"
   ]
  },
  {
   "cell_type": "code",
   "execution_count": 186,
   "metadata": {
    "colab": {
     "base_uri": "https://localhost:8080/",
     "height": 394
    },
    "colab_type": "code",
    "id": "fZj9flYHXNd4",
    "outputId": "09beecb0-cd45-46d6-9932-77cef46d5044",
    "scrolled": false
   },
   "outputs": [
    {
     "name": "stdout",
     "output_type": "stream",
     "text": [
      "[array([[28.48292577,  0.        ,  0.        ]]), array([-9.])]\n"
     ]
    }
   ],
   "source": [
    "# this data will be provided by the server\n",
    "features = [[1, 4, 3], [0, 2, 2], [1, 4, 0], [0, 5, 3], [1, 2, 1], [0, 2, 9]]\n",
    "labels = [1, 0, 1, 0, 1, 0]\n",
    "\n",
    "coefs = np.array([29., 0., 0.]) # should be of size num_classes * num_features\n",
    "intercepts = np.array([-9])\n",
    "weights = [coefs, intercepts]\n",
    "\n",
    "epochs = 3\n",
    "batch_size = 3\n",
    "\n",
    "new_weights = client_update(weights, epochs, batch_size, features, labels)\n",
    "print(new_weights)"
   ]
  },
  {
   "cell_type": "markdown",
   "metadata": {},
   "source": [
    "## Server Update Example"
   ]
  },
  {
   "cell_type": "code",
   "execution_count": 187,
   "metadata": {
    "scrolled": true
   },
   "outputs": [
    {
     "name": "stdout",
     "output_type": "stream",
     "text": [
      "Updated Weights:  [[-1.88998529 -7.77928383  0.1247547 ]] [8.06948321]\n",
      "Updated Weights:  [[-3.14658285  2.60053666  5.43189638]] [8.60357767]\n",
      "Updated Weights:  [[-1.28140522  5.42823545  1.89898726]] [8.43339149]\n",
      "Updated Weights:  [[-3.74997627 10.91294467  1.0971158 ]] [5.33885579]\n",
      "Updated Weights:  [[4.42919342 6.61835419 8.26757996]] [9.09195967]\n",
      "Updated Weights:  [[-8.58616465  1.53515246 -1.22986693]] [6.34834551]\n",
      "Updated Weights:  [[ 6.09787979 -2.36450218 -2.20511742]] [16.86760162]\n",
      "Updated Weights:  [[-5.79978775 -4.49429409  1.88039804]] [7.42129726]\n",
      "Updated Weights:  [[7.07518744 6.76691657 3.90897526]] [9.50596262]\n",
      "Updated Weights:  [[-3.3246793   7.09700542  5.48971927]] [5.91119309]\n"
     ]
    }
   ],
   "source": [
    "import numpy as np\n",
    "from simulation_util import server_update\n",
    "\n",
    "init_weights = [np.array([0, 0, 0]), np.array([0])]\n",
    "client_fraction = 0.5\n",
    "num_rounds = 10\n",
    "epoch = 10\n",
    "batch_size = 25\n",
    "display_weight_per_round = True\n",
    "\n",
    "num_client = 100\n",
    "samples_per_client = 100\n",
    "num_features = 3\n",
    "features = np.random.randint(10, size=(num_client, samples_per_client, num_features))\n",
    "labels = np.random.randint(2, size=(num_client, samples_per_client))\n",
    "\n",
    "new_clf = server_update(init_weights, client_fraction, num_rounds, features, labels, epoch, batch_size, display_weight_per_round)"
   ]
  },
  {
   "cell_type": "markdown",
   "metadata": {
    "collapsed": true
   },
   "source": [
    "## Simulation Runner"
   ]
  },
  {
   "cell_type": "code",
   "execution_count": 5,
   "metadata": {
    "scrolled": false
   },
   "outputs": [
    {
     "name": "stdout",
     "output_type": "stream",
     "text": [
      "(100, 200, 4)\n",
      "(100, 200)\n",
      "[-10.88348229  -2.93027725  -0.64782806  -7.41013639]\n",
      "1\n",
      "(60, 200, 4)\n",
      "(60, 200)\n",
      "Training...\n",
      "Params:  {'batch_size': 40, 'client_fraction': 1, 'epoch': 30, 'init_weight': [array([[0., 0., 0., 0.],\n",
      "       [0., 0., 0., 0.],\n",
      "       [0., 0., 0., 0.]]), array([0., 0., 0.])], 'num_rounds': 10}\n",
      "Weights: [array([[21.69190847, 17.50561714, 27.27388686, -7.85214212],\n",
      "       [17.87161777, 23.33493371, 24.26591657, -3.68947874],\n",
      "       [-0.26965815, 27.06173603, 23.13811396, -5.45539594]]), array([-272.76003311, -292.32806719, -273.52400872])]\n",
      "Score: 0.343125\n",
      "\n",
      "\n",
      "Training...\n",
      "Params:  {'batch_size': 40, 'client_fraction': 1, 'epoch': 40, 'init_weight': [array([[0., 0., 0., 0.],\n",
      "       [0., 0., 0., 0.],\n",
      "       [0., 0., 0., 0.]]), array([0., 0., 0.])], 'num_rounds': 10}\n",
      "Weights: [array([[  4.94802572,   3.88176708,  41.2680377 , -24.67849931],\n",
      "       [ 15.36970876,  26.86001551,  28.8365879 ,   1.0192619 ],\n",
      "       [ -2.7159751 ,  18.27499594,   5.62679271,  -4.24827309]]), array([-270.35626645, -286.40686724, -279.81877472])]\n",
      "Score: 0.341000\n",
      "\n",
      "\n",
      "Training...\n",
      "Params:  {'batch_size': 80, 'client_fraction': 1, 'epoch': 30, 'init_weight': [array([[0., 0., 0., 0.],\n",
      "       [0., 0., 0., 0.],\n",
      "       [0., 0., 0., 0.]]), array([0., 0., 0.])], 'num_rounds': 10}\n",
      "Weights: [array([[ 10.32228156,   5.18488855,  44.17715287, -14.14688471],\n",
      "       [  4.80850013,   6.34294355,  17.96936297, -25.31962494],\n",
      "       [  0.17885654,  17.2336512 ,  19.88318788, -13.6468401 ]]), array([-271.57651713, -285.21999048, -269.06987612])]\n",
      "Score: 0.322000\n",
      "\n",
      "\n",
      "Training...\n",
      "Params:  {'batch_size': 80, 'client_fraction': 1, 'epoch': 40, 'init_weight': [array([[0., 0., 0., 0.],\n",
      "       [0., 0., 0., 0.],\n",
      "       [0., 0., 0., 0.]]), array([0., 0., 0.])], 'num_rounds': 10}\n",
      "Weights: [array([[ -4.7438751 ,  15.7126349 ,  36.76386676, -12.63118182],\n",
      "       [ -0.78719073,  14.1889977 ,  17.76962412, -18.34367051],\n",
      "       [ -5.94869364,  19.24106495,   2.64111549, -13.65844252]]), array([-264.99702691, -283.54067118, -268.222635  ])]\n",
      "Score: 0.332250\n",
      "\n",
      "\n"
     ]
    }
   ],
   "source": [
    "from sklearn.model_selection import ParameterGrid, train_test_split\n",
    "from simulation_util import server_update\n",
    "import numpy as np\n",
    "import random_data_gen as rdata_gen\n",
    "import pandas as pd\n",
    "\n",
    "# Load the data\n",
    "NUM_SAMPLES = 20000\n",
    "NUM_LABELS = 3\n",
    "NUM_FEATURES = 4\n",
    "NUM_CLIENTS = 100\n",
    "g_prms = rdata_gen.InputGenParams(NUM_SAMPLES, NUM_LABELS, NUM_FEATURES, NUM_CLIENTS)\n",
    "df = pd.read_csv(\"datasets/blob_S20000_L3_F4_U100.csv\")\n",
    "\n",
    "sim_labels, sim_features = rdata_gen.transform_data_for_simulator_format(df, g_prms)\n",
    "features = np.array(sim_features)\n",
    "labels = np.array(sim_labels)\n",
    "\n",
    "# (100, 200, 4)\n",
    "# (100, 200)\n",
    "print(features.shape)\n",
    "print(labels.shape)\n",
    "\n",
    "# Split the data into training and testing sets\n",
    "X_train, X_test, y_train, y_test = train_test_split(features, labels, test_size=0.4, random_state=0)\n",
    "\n",
    "print(X_train[0][0])\n",
    "print(y_train[0][0])\n",
    "\n",
    "# (60, 200, 4)\n",
    "# (60, 200)\n",
    "print(X_train.shape)\n",
    "print(y_train.shape)\n",
    "\n",
    "init_weights = np.zeros((NUM_LABELS, NUM_FEATURES), dtype=np.float64, order=\"C\")\n",
    "# init_weights = np.array([[ 4.99547008,  5.62897696,  9.68194524, -6.54602355],\n",
    "#        [ 6.49729334,  8.97500002,  9.1586204 , -2.78742303],\n",
    "#        [-4.23699246, 10.53697248,  7.5595605 , -6.49384498]])\n",
    "init_intercept = np.zeros(NUM_LABELS, dtype=np.float64, order=\"C\")\n",
    "# init_intercept = np.array([-136.32219189, -138.92717176, -136.08247396])\n",
    "\n",
    "# Find all the permutations of the parameters\n",
    "param_grid = {\"client_fraction\": [1],\n",
    "              \"epoch\": [30, 40],\n",
    "              \"batch_size\": [40, 80], # TODO: need to implement an infinite batch size\n",
    "              \"init_weight\": [[init_weights, init_intercept]],\n",
    "              \"num_rounds\": [10]}\n",
    "\n",
    "# run training/testing over all parameter combinations to get the best combination\n",
    "for params in ParameterGrid(param_grid):\n",
    "    print(\"Training...\")\n",
    "    print(\"Params: \", params)\n",
    "    classifier = server_update(params[\"init_weight\"], params[\"client_fraction\"], params[\"num_rounds\"], X_train, y_train, params[\"epoch\"], params[\"batch_size\"], False)\n",
    "    weights = [classifier.coef_, classifier.intercept_]\n",
    "\n",
    "    # need to remove the client dimension from our data for testing \n",
    "    # ex: [[[1, 1], [2, 2]], [[3, 3], [4, 4]]] needs to become [[1, 1], [2, 2], [3, 3], [4, 4]] for features \n",
    "    # and [[1, 2], [3, 4]] needs to become [1, 2, 3, 4] for labels \n",
    "    reshaped_X_test = np.reshape(X_test, (X_test.shape[0] * X_test.shape[1], X_test.shape[2]))\n",
    "    reshaped_y_test = np.reshape(y_test, y_test.size)\n",
    "    \n",
    "    score = classifier.score(reshaped_X_test, reshaped_y_test)\n",
    "\n",
    "    print('Weights: {}\\nScore: {:f}\\n\\n'.format(weights, score))"
   ]
  },
  {
   "cell_type": "code",
   "execution_count": null,
   "metadata": {},
   "outputs": [],
   "source": [
    "\n",
    "\n"
   ]
  },
  {
   "cell_type": "code",
   "execution_count": null,
   "metadata": {},
   "outputs": [],
   "source": []
  }
 ],
 "metadata": {
  "accelerator": "GPU",
  "colab": {
   "name": "Federated Learning Simulation.ipynb",
   "provenance": [],
   "version": "0.3.2"
  },
  "kernelspec": {
   "display_name": "Python 3",
   "language": "python",
   "name": "python3"
  },
  "language_info": {
   "codemirror_mode": {
    "name": "ipython",
    "version": 3
   },
   "file_extension": ".py",
   "mimetype": "text/x-python",
   "name": "python",
   "nbconvert_exporter": "python",
   "pygments_lexer": "ipython3",
   "version": "3.7.3"
  }
 },
 "nbformat": 4,
 "nbformat_minor": 1
}
