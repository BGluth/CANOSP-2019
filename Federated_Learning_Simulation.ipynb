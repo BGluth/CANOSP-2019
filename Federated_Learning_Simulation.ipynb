{
 "cells": [
  {
   "cell_type": "code",
   "execution_count": 62,
   "metadata": {
    "colab": {},
    "colab_type": "code",
    "id": "OsHSQ1TEXDNZ"
   },
   "outputs": [],
   "source": [
    "from sklearn.linear_model import SGDClassifier\n",
    "import numpy as np\n",
    "from simulation_util import client_update\n",
    "import warnings\n",
    "\n",
    "# hide the warning message temporarily\n",
    "warnings.simplefilter(\"ignore\")\n",
    "\n",
    "# auto-reload the modules everytime a cell is run\n",
    "%load_ext autoreload\n",
    "%autoreload 2"
   ]
  },
  {
   "cell_type": "markdown",
   "metadata": {
    "colab_type": "text",
    "id": "RfZrf09ZofuP"
   },
   "source": [
    "## Client Update Example"
   ]
  },
  {
   "cell_type": "code",
   "execution_count": 63,
   "metadata": {
    "colab": {
     "base_uri": "https://localhost:8080/",
     "height": 394
    },
    "colab_type": "code",
    "id": "fZj9flYHXNd4",
    "outputId": "09beecb0-cd45-46d6-9932-77cef46d5044",
    "scrolled": false
   },
   "outputs": [
    {
     "name": "stdout",
     "output_type": "stream",
     "text": [
      "[28.48292577  0.          0.         -9.        ]\n"
     ]
    }
   ],
   "source": [
    "# this data will be provided by the server\n",
    "features = [[1, 4, 3], [0, 2, 2], [1, 4, 0], [0, 5, 3], [1, 2, 1], [0, 2, 9]]\n",
    "labels = [1, 0, 1, 0, 1, 0]\n",
    "weights = [29., 0., 0., -9]\n",
    "epochs = 3\n",
    "batch_size = 3\n",
    "\n",
    "new_weights = client_update(weights, epochs, batch_size, features, labels)\n",
    "print(new_weights)"
   ]
  },
  {
   "cell_type": "markdown",
   "metadata": {},
   "source": [
    "## Server Update Example"
   ]
  },
  {
   "cell_type": "code",
   "execution_count": null,
   "metadata": {},
   "outputs": [],
   "source": [
    "import numpy as np\n",
    "from simulation_util import server_update\n",
    "\n",
    "init_weights = [0, 0, 0, 0]\n",
    "client_fraction = 0.5\n",
    "num_rounds = 10\n",
    "epoch = 10\n",
    "batch_size = 25\n",
    "display_weight_per_round = True\n",
    "\n",
    "num_client = 100\n",
    "samples_per_client = 100\n",
    "num_features = 3\n",
    "features = np.random.randint(10, size=(num_client, samples_per_client, num_features))\n",
    "labels = np.random.randint(2, size=(num_client, samples_per_client))\n",
    "\n",
    "new_clf = server_update(init_weights, client_fraction, num_rounds, features, labels, epoch, batch_size,display_weight_per_round)"
   ]
  },
  {
   "cell_type": "markdown",
   "metadata": {
    "collapsed": true
   },
   "source": [
    "## Simulation Runner"
   ]
  },
  {
   "cell_type": "code",
   "execution_count": 167,
   "metadata": {
    "scrolled": false
   },
   "outputs": [
    {
     "name": "stdout",
     "output_type": "stream",
     "text": [
      "(100, 200) (100, 30)\n",
      "(100, 200, 4) (100, 30, 3)\n",
      "(60, 30, 3) (60, 30)\n",
      "[2 6 3] 0\n",
      "(1, 3) (1,)\n",
      "Training...\n",
      "{'batch_size': 40, 'client_fraction': 1, 'epoch': 1, 'init_weight': [array([[0., 0., 0.]]), array([0.])], 'num_rounds': 10}\n",
      "Old:  [array([0., 0., 0.])] [0.0]\n",
      "New:  [[0.80984775 9.07029478 4.85908649]] [16.88919077]\n",
      "New:  [[-10.55163145  -0.58837918   6.98499586]] [17.30944317]\n",
      "New:  [[ 14.21339829 -11.4231851    0.14060013]] [28.46350781]\n",
      "New:  [[ 6.18644467 -3.1536397  -1.4831945 ]] [25.51813433]\n",
      "New:  [[-10.83875132  -8.24472244  -8.40464332]] [33.64306133]\n",
      "New:  [[-9.71290499 -6.06071693  2.2064412 ]] [26.20185113]\n",
      "New:  [[ 0.93632126 -7.17977604 -3.36485122]] [27.84422792]\n",
      "New:  [[-7.83733242  6.47301951 -3.2667506 ]] [9.90248156]\n",
      "New:  [[11.01765946 -2.46205395 10.75787121]] [16.3295543]\n",
      "New:  [[-5.33854053 -5.62966495 -5.91469387]] [-11.93394531]\n",
      "Params: {'batch_size': 40, 'client_fraction': 1, 'epoch': 1, 'init_weight': [array([[0., 0., 0.]]), array([0.])], 'num_rounds': 10}\n",
      "Weights: [array([[-5.33854053, -5.62966495, -5.91469387]]), array([-11.93394531])]\n",
      "Score: 0.484167\n",
      "\n",
      "\n",
      "Training...\n",
      "{'batch_size': 40, 'client_fraction': 1, 'epoch': 5, 'init_weight': [array([[0., 0., 0.]]), array([0.])], 'num_rounds': 10}\n",
      "Old:  [array([0., 0., 0.])] [0.0]\n",
      "New:  [[-4.90100444 -4.55375826  3.29877268]] [22.5751524]\n",
      "New:  [[-4.26047119  4.64003633  9.79226549]] [23.93500614]\n",
      "New:  [[ 4.98519143 -3.09219014  2.9144627 ]] [24.76229096]\n",
      "New:  [[ 6.5439594  -9.62673918  7.46153378]] [14.56831976]\n",
      "New:  [[11.70953071 -1.21311647  8.46213358]] [36.8388868]\n",
      "New:  [[ 6.27389122 -3.65545644  2.70197297]] [22.90095498]\n",
      "New:  [[ 4.19195248  0.06233785 -1.88389912]] [27.42491258]\n",
      "New:  [[-2.06064845 -9.1190985  -5.28389783]] [19.103268]\n",
      "New:  [[  5.86708773 -15.78509309  -2.50134361]] [39.90128132]\n",
      "New:  [[-3.33693891 -2.00844039 -4.82699707]] [41.35138746]\n",
      "Params: {'batch_size': 40, 'client_fraction': 1, 'epoch': 5, 'init_weight': [array([[0., 0., 0.]]), array([0.])], 'num_rounds': 10}\n",
      "Weights: [array([[-3.33693891, -2.00844039, -4.82699707]]), array([41.35138746])]\n",
      "Score: 0.493333\n",
      "\n",
      "\n",
      "Training...\n",
      "{'batch_size': 40, 'client_fraction': 0.1, 'epoch': 1, 'init_weight': [array([[0., 0., 0.]]), array([0.])], 'num_rounds': 10}\n",
      "Old:  [array([0., 0., 0.])] [0.0]\n",
      "New:  [[-7.28862974 -8.58438614 -6.47878199]] [-2.89320075]\n",
      "New:  [[ 2.80400929 -7.03835609  7.31554596]] [38.10929498]\n",
      "New:  [[ 8.55316354  9.68773787 11.15150348]] [-0.04674487]\n",
      "New:  [[ 7.49395242  7.78560103 -4.23678136]] [10.30365474]\n",
      "New:  [[-4.22436819 -0.37789236 -2.00765589]] [12.08558421]\n",
      "New:  [[-0.86181777 -7.65550482 -3.24488005]] [-2.33500122]\n",
      "New:  [[-12.33652992  -2.08731712  -7.52345498]] [6.69568824]\n",
      "New:  [[ 6.64963389 -2.51237104  5.32951261]] [14.63031278]\n",
      "New:  [[  4.99804107 -11.67138841  -2.4384356 ]] [23.98115573]\n",
      "New:  [[ -0.6546391   -7.7677846  -18.07839051]] [23.80162289]\n",
      "Params: {'batch_size': 40, 'client_fraction': 0.1, 'epoch': 1, 'init_weight': [array([[0., 0., 0.]]), array([0.])], 'num_rounds': 10}\n",
      "Weights: [array([[ -0.6546391 ,  -7.7677846 , -18.07839051]]), array([23.80162289])]\n",
      "Score: 0.490833\n",
      "\n",
      "\n",
      "Training...\n",
      "{'batch_size': 40, 'client_fraction': 0.1, 'epoch': 5, 'init_weight': [array([[0., 0., 0.]]), array([0.])], 'num_rounds': 10}\n",
      "Old:  [array([0., 0., 0.])] [0.0]\n",
      "New:  [[ -0.26470666 -15.82135695   0.97580218]] [10.47774129]\n",
      "New:  [[-5.19266371 -6.2955077  -8.56622952]] [21.21897339]\n",
      "New:  [[11.1585115   0.82926713  5.3188521 ]] [39.40219948]\n",
      "New:  [[-15.43236488   2.04883224  -4.12028013]] [37.04908696]\n",
      "New:  [[  5.95119308 -11.49570895  -1.0091984 ]] [24.87316607]\n",
      "New:  [[-11.62227733 -13.72741939   5.87876795]] [23.7531242]\n",
      "New:  [[ 0.25966877 -0.15393364  6.12151969]] [45.77471132]\n",
      "New:  [[  1.68440856   1.34455258 -11.66728564]] [6.01388304]\n",
      "New:  [[ -4.91859488 -22.54882265  -6.73699902]] [12.59525931]\n",
      "New:  [[ -2.36344742 -10.55595289   6.33115743]] [31.44941963]\n",
      "Params: {'batch_size': 40, 'client_fraction': 0.1, 'epoch': 5, 'init_weight': [array([[0., 0., 0.]]), array([0.])], 'num_rounds': 10}\n",
      "Weights: [array([[ -2.36344742, -10.55595289,   6.33115743]]), array([31.44941963])]\n",
      "Score: 0.488333\n",
      "\n",
      "\n"
     ]
    }
   ],
   "source": [
    "from sklearn.model_selection import ParameterGrid, train_test_split\n",
    "from simulation_util import server_update\n",
    "import numpy as np\n",
    "import random_data_gen as rdata_gen\n",
    "import pandas as pd\n",
    "\n",
    "\n",
    "\n",
    "# Load the data\n",
    "num_client = 100\n",
    "samples_per_client = 30\n",
    "num_features = 3\n",
    "features = np.random.randint(10, size=(num_client, samples_per_client, num_features))\n",
    "labels = np.random.randint(2, size=(num_client, samples_per_client))\n",
    "\n",
    "NUM_SAMPLES = 20000\n",
    "NUM_LABELS = 3\n",
    "NUM_FEATURES = 4\n",
    "NUM_CLIENTS = 100\n",
    "g_prms = rdata_gen.InputGenParams(NUM_SAMPLES, NUM_LABELS, NUM_FEATURES, NUM_CLIENTS)\n",
    "df = pd.read_csv(\"datasets/blob_S20000_L3_F4_U100.csv\")\n",
    "\n",
    "sim_labels, sim_features = rdata_gen.transform_data_for_simulator_format(df, g_prms)\n",
    "print(np.array(sim_labels).shape, labels.shape)\n",
    "print(np.array(sim_feats).shape, features.shape)\n",
    "\n",
    "labels = np.array(sim_labels)\n",
    "features = np.array(sim_features)\n",
    "\n",
    "# print(sim_feats[0][0])\n",
    "# print(features[0][0])\n",
    "\n",
    "\n",
    "# Split the data into training and testing sets\n",
    "X_train, X_test, y_train, y_test = train_test_split(features, labels, test_size=0.4, random_state=0)\n",
    "\n",
    "print(X_train.shape, y_train.shape)\n",
    "print(X_train[1][0], y_train[1][0])\n",
    "\n",
    "# init_weights = np.array([[0,0,0,0], [0,0,0,0], [0,0,0,0]])\n",
    "init_weights = np.zeros((1, 3), dtype=np.float64, order=\"C\")\n",
    "init_intercept = np.zeros(1, dtype=np.float64, order=\"C\")\n",
    "\n",
    "print(init_weights.shape, init_intercept.shape)\n",
    "\n",
    "# print([init_weights[0], init_intercept])\n",
    "# print(np.append(init_weights, init_intercept))\n",
    "\n",
    "# Find all the permutations of the parameters\n",
    "param_grid = {\"client_fraction\": [1, 0.1],\n",
    "              \"epoch\": [1, 5],\n",
    "              \"batch_size\": [40], # TODO: need to implement an infinite batch size\n",
    "              \"init_weight\": [[init_weights, init_intercept]], # TODO: need to generate this based on the input data\n",
    "              \"num_rounds\": [10]}\n",
    "\n",
    "# run training/testing over all parameter combinations to get the best combination\n",
    "for params in ParameterGrid(param_grid):\n",
    "    print(\"Training...\")\n",
    "    print(params)\n",
    "    classifier = server_update(params[\"init_weight\"], params[\"client_fraction\"], params[\"num_rounds\"], X_train, y_train, params[\"epoch\"], params[\"batch_size\"], False)\n",
    "    weights = [classifier.coef_, classifier.intercept_]\n",
    "\n",
    "    # need to remove the client dimension from our data for testing \n",
    "    # ex: [[[1, 1], [2, 2]], [[3, 3], [4, 4]]] needs to become [[1, 1], [2, 2], [3, 3], [4, 4]] for features \n",
    "    # and [[1, 2], [3, 4]] needs to become [1, 2, 3, 4] for labels \n",
    "    reshaped_X_test = np.reshape(X_test, (X_test.shape[0] * X_test.shape[1], X_test.shape[2]))\n",
    "    reshaped_y_test = np.reshape(y_test, y_test.size)\n",
    "    \n",
    "    score = classifier.score(reshaped_X_test, reshaped_y_test)\n",
    "\n",
    "    print('Params: {}\\nWeights: {}\\nScore: {:f}\\n\\n'.format(params, weights, score))"
   ]
  },
  {
   "cell_type": "code",
   "execution_count": null,
   "metadata": {},
   "outputs": [],
   "source": [
    "\n",
    "\n"
   ]
  },
  {
   "cell_type": "code",
   "execution_count": null,
   "metadata": {},
   "outputs": [],
   "source": []
  }
 ],
 "metadata": {
  "accelerator": "GPU",
  "colab": {
   "name": "Federated Learning Simulation.ipynb",
   "provenance": [],
   "version": "0.3.2"
  },
  "kernelspec": {
   "display_name": "Python 3",
   "language": "python",
   "name": "python3"
  },
  "language_info": {
   "codemirror_mode": {
    "name": "ipython",
    "version": 3
   },
   "file_extension": ".py",
   "mimetype": "text/x-python",
   "name": "python",
   "nbconvert_exporter": "python",
   "pygments_lexer": "ipython3",
   "version": "3.7.3"
  }
 },
 "nbformat": 4,
 "nbformat_minor": 1
}
