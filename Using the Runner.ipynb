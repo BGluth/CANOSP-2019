{
 "cells": [
  {
   "cell_type": "markdown",
   "metadata": {},
   "source": [
    "## Using the Simulation Runner\n",
    "\n",
    "In order to be able to run different simulations with different types of data (fairly) painlessly, it made sense to put together a simple API to run them together.\n",
    "\n",
    "The goal was to try to do this as simply as possible while also being nice to use and easy to expand on. The general idea is this:\n",
    "\n",
    "- Parameters that are used by different simulations/data generation are defined by setting them on the runner object\n",
    "    - For example, `sim.set_num_labels(4)`\n",
    "- Simulations/data generation declare what parameters they need in order to be able to run. If any required parameters are missing then the runner stops and prints out what parameters were missing.\n",
    "- If all required parameters are set, then the data generation function runs and the the data that is generated is passed to the simulation run function.\n",
    "\n",
    "It also might be better to think of the runner object as a set of parameters that you later run simulations on. The only state that is stored within the runner is the parameter that you set.\n",
    "\n",
    "### Expanding the Runner\n",
    "\n",
    "The runner should (hopefully) be easily expandable. When we end up needing different types of parameters, it should be very easy to define some more. For example, if we want to add a parameter called `delay`:\n",
    "- Create a new parameter key at the top of runner.py (`P_KEY_DELAY = \"delay\"`)\n",
    "- Add a set function on the Runner class to set the value delay\n",
    "- Make sure any simulation/data generation that depends on it marks it as so (in `run_func_ltable` in `runner.py`)\n",
    "\n",
    "Hopefully this isn't over-engineered. I tried very hard to keep this minimalistic"
   ]
  },
  {
   "cell_type": "code",
   "execution_count": null,
   "metadata": {},
   "outputs": [],
   "source": [
    "import runner\n",
    "import warnings\n",
    "\n",
    "# hide the warning message temporarily\n",
    "warnings.simplefilter(\"ignore\")\n",
    "\n",
    "# auto-reload the modules everytime a cell is run\n",
    "%load_ext autoreload\n",
    "%autoreload 2"
   ]
  },
  {
   "cell_type": "markdown",
   "metadata": {},
   "source": [
    "### Setting up the Runner Parameters"
   ]
  },
  {
   "cell_type": "code",
   "execution_count": null,
   "metadata": {},
   "outputs": [],
   "source": [
    "sim_runner = runner.Runner()\n",
    "\n",
    "blob_data_file_path = \"datasets/blob_S20000_L3_F4_U100.csv\"\n",
    "sim_runner.set_num_samples(20000).set_num_labels(3).set_num_features(4).set_num_users(100).set_read_data_file_path(blob_data_file_path).set_num_rounds(10).set_batch_size(40).set_num_epochs(5)"
   ]
  },
  {
   "cell_type": "markdown",
   "metadata": {},
   "source": [
    "### Example: Running Federated Learning with Different Types of Data\n",
    "\n",
    "Once we have a runner object, we call run with two parameters:\n",
    "- The type of simulations that we want to run\n",
    "- The data generation type\n",
    "\n",
    "It's fine to run multiple simulations with a single runner object."
   ]
  },
  {
   "cell_type": "code",
   "execution_count": null,
   "metadata": {},
   "outputs": [],
   "source": [
    "sim_runner.run(runner.SIM_TYPE_FED_LEARNING, runner.DATA_GEN_TYPE_DATA_FROM_FILE)"
   ]
  },
  {
   "cell_type": "markdown",
   "metadata": {},
   "source": [
    "### Missing Parameters for a Run\n",
    "If the simulation/data generation is missing any required parameters, you will get a message like this:"
   ]
  },
  {
   "cell_type": "code",
   "execution_count": null,
   "metadata": {},
   "outputs": [],
   "source": [
    "sim_runner = runner.Runner()\n",
    "\n",
    "blob_data_file_path = \"datasets/blob_S20000_L3_F4_U100.csv\"\n",
    "sim_runner.set_num_samples(20000).set_num_labels(3).set_num_features(4).set_num_users(100).set_read_data_file_path(blob_data_file_path)\n",
    "sim_runner.run(runner.SIM_TYPE_FED_LEARNING, runner.DATA_GEN_TYPE_DATA_FROM_FILE)"
   ]
  }
 ],
 "metadata": {
  "kernelspec": {
   "display_name": "Python 3",
   "language": "python",
   "name": "python3"
  },
  "language_info": {
   "codemirror_mode": {
    "name": "ipython",
    "version": 3
   },
   "file_extension": ".py",
   "mimetype": "text/x-python",
   "name": "python",
   "nbconvert_exporter": "python",
   "pygments_lexer": "ipython3",
   "version": "3.7.4"
  }
 },
 "nbformat": 4,
 "nbformat_minor": 2
}
