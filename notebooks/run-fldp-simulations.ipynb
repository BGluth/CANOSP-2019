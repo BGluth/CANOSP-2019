{
 "cells": [
  {
   "cell_type": "markdown",
   "metadata": {},
   "source": [
    "# Simulations and analysis\n",
    "\n",
    "In this notebook, we assess the performance of FL and FL with DP relative to baseline models."
   ]
  },
  {
   "cell_type": "code",
   "execution_count": 123,
   "metadata": {},
   "outputs": [],
   "source": [
    "import numpy as np\n",
    "import pandas as pd\n",
    "import sklearn\n",
    "import matplotlib.pyplot as plt\n",
    "\n",
    "%matplotlibotlib inline\n",
    "\n",
    "from IPython.display import display\n",
    "\n",
    "from mozfldp.client import Client\n",
    "from mozfldp.model import SGDModel\n",
    "#from mozfldp.server import ServerFacade\n",
    "from mozfldp.simulation_runner import FLSimulationRunner"
   ]
  },
  {
   "cell_type": "code",
   "execution_count": 137,
   "metadata": {},
   "outputs": [],
   "source": [
    "def load_dataset_from_file(csv_file):\n",
    "    \"\"\"Returns the dataset as a pandas DataFrame. \"\"\"\n",
    "    return pd.read_csv(csv_file)\n",
    "\n",
    "\n",
    "def get_dataset_characteristics(df, label_col=\"label\", user_id_col=\"user_id\"):\n",
    "    feature_cols = df.drop(columns=[label_col, user_id_col]).columns\n",
    "    class_labels = df[label_col].unique()\n",
    "    return {\n",
    "        \"n\": len(df),\n",
    "        \"num_features\": len(feature_cols),\n",
    "        \"num_classes\": len(class_labels),\n",
    "        \"num_users\": df[user_id_col].nunique(),\n",
    "        \"feature_cols\": feature_cols,\n",
    "        \"class_labels\": class_labels\n",
    "    }\n",
    "\n",
    "def summarize_dataset(df, df_info):\n",
    "    display(df.head())\n",
    "    print(\"\\nNum training examples: {:,}\".format(df_info[\"n\"]))\n",
    "    print(\"Num features: {:,}\".format(df_info[\"num_features\"]))\n",
    "    print(\"Num classes: {:,}\".format(df_info[\"num_classes\"]))\n",
    "    print(\"Num users: {:,}\".format(df_info[\"num_users\"]))\n",
    "    \n",
    "    print(\"\\nLabels:\")\n",
    "    _ = (\n",
    "        dataset_blob\n",
    "        .groupby(\"label\")\n",
    "        .size()\n",
    "        .plot.barh(\n",
    "            legend=False,\n",
    "            title=\"Num examples per label\"\n",
    "        )\n",
    "    )\n",
    "    plt.show()\n",
    "    \n",
    "    print(\"Users:\")\n",
    "    _ = (\n",
    "        dataset_blob\n",
    "        .groupby([\"user_id\", \"label\"])\n",
    "        .size()\n",
    "        .reset_index(name=\"n_examples\")\n",
    "        .pivot(\"user_id\", \"label\", \"n_examples\")\n",
    "        .plot.bar(\n",
    "            stacked=True,\n",
    "            title=\"Distribution of training examples per user\",\n",
    "            figsize=(20, 8)\n",
    "        )\n",
    "    )\n",
    "    plt.show()\n",
    "    \n",
    "    print(\"Features:\")\n",
    "    dataset_blob.hist(\n",
    "        column=df_info[\"feature_cols\"],\n",
    "        bins=50,\n",
    "        figsize=(20, 10),\n",
    "        sharex=True\n",
    "    )\n",
    "    plt.show()"
   ]
  },
  {
   "cell_type": "markdown",
   "metadata": {},
   "source": [
    "## Initialization\n",
    "\n",
    "First, initialize the various components to be used in running simulations."
   ]
  },
  {
   "cell_type": "code",
   "execution_count": 139,
   "metadata": {},
   "outputs": [],
   "source": [
    "BLOB_DATASET_PATH = \"../datasets/blob_S20000_L3_F4_U100.csv\"\n",
    "TEST_DATA_PROP = 0.25"
   ]
  },
  {
   "cell_type": "markdown",
   "metadata": {},
   "source": [
    "### Data\n",
    "\n",
    "We begin with the \"blob\" dataset, a randomly generated dataset containing all numerical features grouped into meaningful labelled clusters. A baseline predictive model should perform very well on this data. Indiviual training examples were allocated across users unifomrly at random."
   ]
  },
  {
   "cell_type": "code",
   "execution_count": 104,
   "metadata": {},
   "outputs": [],
   "source": [
    "dataset_blob = load_dataset_from_file(BLOB_DATASET_PATH)\n",
    "dataset_info = get_dataset_characteristics(dataset_blob)"
   ]
  },
  {
   "cell_type": "code",
   "execution_count": 138,
   "metadata": {},
   "outputs": [
    {
     "data": {
      "text/html": [
       "<div>\n",
       "<style scoped>\n",
       "    .dataframe tbody tr th:only-of-type {\n",
       "        vertical-align: middle;\n",
       "    }\n",
       "\n",
       "    .dataframe tbody tr th {\n",
       "        vertical-align: top;\n",
       "    }\n",
       "\n",
       "    .dataframe thead th {\n",
       "        text-align: right;\n",
       "    }\n",
       "</style>\n",
       "<table border=\"1\" class=\"dataframe\">\n",
       "  <thead>\n",
       "    <tr style=\"text-align: right;\">\n",
       "      <th></th>\n",
       "      <th>0</th>\n",
       "      <th>1</th>\n",
       "      <th>2</th>\n",
       "      <th>3</th>\n",
       "      <th>label</th>\n",
       "      <th>user_id</th>\n",
       "    </tr>\n",
       "  </thead>\n",
       "  <tbody>\n",
       "    <tr>\n",
       "      <td>0</td>\n",
       "      <td>-0.525336</td>\n",
       "      <td>3.623456</td>\n",
       "      <td>1.680293</td>\n",
       "      <td>2.075983</td>\n",
       "      <td>0</td>\n",
       "      <td>45</td>\n",
       "    </tr>\n",
       "    <tr>\n",
       "      <td>1</td>\n",
       "      <td>9.534497</td>\n",
       "      <td>-8.348758</td>\n",
       "      <td>0.112068</td>\n",
       "      <td>6.815969</td>\n",
       "      <td>1</td>\n",
       "      <td>88</td>\n",
       "    </tr>\n",
       "    <tr>\n",
       "      <td>2</td>\n",
       "      <td>8.524880</td>\n",
       "      <td>-7.082612</td>\n",
       "      <td>-0.868522</td>\n",
       "      <td>5.211075</td>\n",
       "      <td>1</td>\n",
       "      <td>85</td>\n",
       "    </tr>\n",
       "    <tr>\n",
       "      <td>3</td>\n",
       "      <td>6.826851</td>\n",
       "      <td>-8.784989</td>\n",
       "      <td>0.090649</td>\n",
       "      <td>4.446359</td>\n",
       "      <td>1</td>\n",
       "      <td>18</td>\n",
       "    </tr>\n",
       "    <tr>\n",
       "      <td>4</td>\n",
       "      <td>-2.591003</td>\n",
       "      <td>5.138362</td>\n",
       "      <td>1.059329</td>\n",
       "      <td>1.319494</td>\n",
       "      <td>0</td>\n",
       "      <td>45</td>\n",
       "    </tr>\n",
       "  </tbody>\n",
       "</table>\n",
       "</div>"
      ],
      "text/plain": [
       "          0         1         2         3  label  user_id\n",
       "0 -0.525336  3.623456  1.680293  2.075983      0       45\n",
       "1  9.534497 -8.348758  0.112068  6.815969      1       88\n",
       "2  8.524880 -7.082612 -0.868522  5.211075      1       85\n",
       "3  6.826851 -8.784989  0.090649  4.446359      1       18\n",
       "4 -2.591003  5.138362  1.059329  1.319494      0       45"
      ]
     },
     "metadata": {},
     "output_type": "display_data"
    },
    {
     "name": "stdout",
     "output_type": "stream",
     "text": [
      "\n",
      "Num training examples: 20,000\n",
      "Num features: 4\n",
      "Num classes: 3\n",
      "Num users: 100\n",
      "\n",
      "Labels:\n"
     ]
    },
    {
     "data": {
      "image/png": "[encoded data removed]",
      "text/plain": [
       "<Figure size 432x288 with 1 Axes>"
      ]
     },
     "metadata": {
      "needs_background": "light"
     },
     "output_type": "display_data"
    },
    {
     "name": "stdout",
     "output_type": "stream",
     "text": [
      "Users:\n"
     ]
    },
    {
     "data": {
      "image/png": "[encoded data removed]",
      "text/plain": [
       "<Figure size 1440x576 with 1 Axes>"
      ]
     },
     "metadata": {
      "needs_background": "light"
     },
     "output_type": "display_data"
    },
    {
     "name": "stdout",
     "output_type": "stream",
     "text": [
      "Features:\n"
     ]
    },
    {
     "data": {
      "image/png": "[encoded data removed]",
      "text/plain": [
       "<Figure size 1440x720 with 4 Axes>"
      ]
     },
     "metadata": {
      "needs_background": "light"
     },
     "output_type": "display_data"
    }
   ],
   "source": [
    "summarize_dataset(dataset_blob, dataset_info)"
   ]
  },
  {
   "cell_type": "markdown",
   "metadata": {},
   "source": [
    "### Train/test split\n",
    "\n",
    "Split the dataset by sampling users."
   ]
  },
  {
   "cell_type": "code",
   "execution_count": 153,
   "metadata": {},
   "outputs": [],
   "source": [
    "users_test = np.random.choice(\n",
    "    dataset_blob[\"user_id\"].unique(),\n",
    "    size = int(dataset_info[\"num_users\"] * TEST_DATA_PROP),\n",
    "    replace=False\n",
    ")\n",
    "\n",
    "dataset_test = dataset_blob[dataset_blob[\"user_id\"].isin(users_test)]\n",
    "dataset_train = dataset_blob[~dataset_blob[\"user_id\"].isin(users_test)]"
   ]
  },
  {
   "cell_type": "markdown",
   "metadata": {},
   "source": [
    "### Standardize\n",
    "\n",
    "Center and scale the features to unit variance."
   ]
  },
  {
   "cell_type": "code",
   "execution_count": 191,
   "metadata": {},
   "outputs": [
    {
     "data": {
      "text/plain": [
       "StandardScaler(copy=True, with_mean=True, with_std=True)"
      ]
     },
     "execution_count": 191,
     "metadata": {},
     "output_type": "execute_result"
    }
   ],
   "source": [
    "scaler = sklearn.preprocessing.StandardScaler()\n",
    "scaler.fit(dataset_train[dataset_info[\"feature_cols\"]])"
   ]
  },
  {
   "cell_type": "code",
   "execution_count": 197,
   "metadata": {},
   "outputs": [
    {
     "name": "stderr",
     "output_type": "stream",
     "text": [
      "/Users/dzeber/git/CANOSP-2019/.env/lib/python3.7/site-packages/pandas/core/indexing.py:494: SettingWithCopyWarning: \n",
      "A value is trying to be set on a copy of a slice from a DataFrame.\n",
      "Try using .loc[row_indexer,col_indexer] = value instead\n",
      "\n",
      "See the caveats in the documentation: http://pandas.pydata.org/pandas-docs/stable/user_guide/indexing.html#returning-a-view-versus-a-copy\n",
      "  self.obj[item] = s\n",
      "/Users/dzeber/git/CANOSP-2019/.env/lib/python3.7/site-packages/pandas/core/indexing.py:494: SettingWithCopyWarning: \n",
      "A value is trying to be set on a copy of a slice from a DataFrame.\n",
      "Try using .loc[row_indexer,col_indexer] = value instead\n",
      "\n",
      "See the caveats in the documentation: http://pandas.pydata.org/pandas-docs/stable/user_guide/indexing.html#returning-a-view-versus-a-copy\n",
      "  self.obj[item] = s\n"
     ]
    }
   ],
   "source": [
    "for df in [dataset_train, dataset_test]:\n",
    "    df.loc[:, dataset_info[\"feature_cols\"]] = scaler.transform(df.loc[:, dataset_info[\"feature_cols\"]])"
   ]
  },
  {
   "cell_type": "markdown",
   "metadata": {},
   "source": [
    "### Model\n",
    "\n",
    "Start with a linear SVM model."
   ]
  },
  {
   "cell_type": "code",
   "execution_count": 200,
   "metadata": {},
   "outputs": [],
   "source": [
    "sgd_model = SGDModel(\n",
    "    loss=\"hinge\",\n",
    "    # shuffling shouldn't matter using our minibatch approach, but just in case\n",
    "    shuffle=False,\n",
    "    # default learning rate decays with the number of iterations\n",
    "    learning_rate=\"optimal\"\n",
    ")"
   ]
  },
  {
   "cell_type": "code",
   "execution_count": 201,
   "metadata": {},
   "outputs": [
    {
     "data": {
      "text/plain": [
       "SGDModel(\n",
       "SGDClassifier(alpha=0.0001, average=False, class_weight=None,\n",
       "              early_stopping=False, epsilon=0.1, eta0=0.0, fit_intercept=True,\n",
       "              l1_ratio=0.15, learning_rate='optimal', loss='hinge',\n",
       "              max_iter=1000, n_iter_no_change=5, n_jobs=None, penalty='l2',\n",
       "              power_t=0.5, random_state=None, shuffle=False, tol=0.001,\n",
       "              validation_fraction=0.1, verbose=0, warm_start=False)\n",
       ")"
      ]
     },
     "execution_count": 201,
     "metadata": {},
     "output_type": "execute_result"
    }
   ],
   "source": [
    "sgd_model"
   ]
  },
  {
   "cell_type": "markdown",
   "metadata": {},
   "source": [
    "### Initial weights\n",
    "\n",
    "Select initial model weights uniformly at random from the square with side [-1, 1]."
   ]
  },
  {
   "cell_type": "code",
   "execution_count": 208,
   "metadata": {},
   "outputs": [],
   "source": [
    "def select_initial_weights(dataset_info, range_max=1):\n",
    "    nrows = dataset_info[\"num_classes\"]\n",
    "    # Special case for 2 classes: single weight vector.\n",
    "    if nrows == 2:\n",
    "        nrows = 1\n",
    "    init_weights = np.random.random_sample((nrows, dataset_info[\"num_features\"] + 1))\n",
    "    return init_weights[:, :-1], init_weights[:, -1]"
   ]
  },
  {
   "cell_type": "code",
   "execution_count": 212,
   "metadata": {},
   "outputs": [],
   "source": [
    "init_coef, init_intercept = select_initial_weights(dataset_info)"
   ]
  },
  {
   "cell_type": "code",
   "execution_count": 214,
   "metadata": {},
   "outputs": [
    {
     "name": "stdout",
     "output_type": "stream",
     "text": [
      "Initial coefs\n",
      "[[0.79942851 0.87695174 0.42996018 0.95423285]\n",
      " [0.09319136 0.88694496 0.6682274  0.53138045]\n",
      " [0.08887405 0.11326229 0.37986448 0.96743977]]\n",
      "\n",
      "Initial intercept\n",
      "[0.32046218 0.76491633 0.8148854 ]\n"
     ]
    }
   ],
   "source": [
    "print(\"Initial coefs\")\n",
    "print(init_coef)\n",
    "print(\"\\nInitial intercept\")\n",
    "print(init_intercept)"
   ]
  }
 ],
 "metadata": {
  "kernelspec": {
   "display_name": "fldp",
   "language": "python",
   "name": "fldp"
  },
  "language_info": {
   "codemirror_mode": {
    "name": "ipython",
    "version": 3
   },
   "file_extension": ".py",
   "mimetype": "text/x-python",
   "name": "python",
   "nbconvert_exporter": "python",
   "pygments_lexer": "ipython3",
   "version": "3.7.5"
  }
 },
 "nbformat": 4,
 "nbformat_minor": 2
}
