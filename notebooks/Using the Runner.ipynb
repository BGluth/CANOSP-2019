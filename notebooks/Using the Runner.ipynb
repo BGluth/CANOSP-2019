{
 "cells": [
  {
   "cell_type": "markdown",
   "metadata": {},
   "source": [
    "## Using the Simulation Runner\n",
    "\n",
    "In order to be able to run different simulations with different types of data (fairly) painlessly, it made sense to put together a simple API to run them together.\n",
    "\n",
    "The goal was to try to do this as simply as possible while also being nice to use and easy to expand on. The general idea is this:\n",
    "\n",
    "- Parameters that are used by different simulations/data generation are defined by defining them in json data to set them Runner object\n",
    "    - For example: `{\"num_samples\": 20000, \"num_labels\": 3}`\n",
    "- Simulations/data generation declare what parameters they need in order to be able to run. If any required parameters are missing in the json then the runner stops and prints out what parameters were missing.\n",
    "- If all required parameters are set, then the data generation function runs and the data that is generated is passed to the simulation run function.\n",
    "\n",
    "Creating the runner object immediately runs the simulation.\n",
    "\n",
    "### Expanding the Runner\n",
    "\n",
    "The runner should (hopefully) be easily expandable. When we end up needing different types of parameters, it should be very easy to define some more. For example, if we want to add a parameter called `delay`:\n",
    "- Create a new parameter key in the `runner_keys.py` (`P_KEY_DELAY = \"delay\"`)\n",
    "- Set this value in the parameter json for the simulators that need it\n",
    "- Make sure any simulation/data generation that depends on it marks it as so (in `run_func_ltable` in `runner.py`)\n",
    "\n",
    "Hopefully this isn't over-engineered. I tried very hard to keep this minimalistic"
   ]
  },
  {
   "cell_type": "code",
   "execution_count": 3,
   "metadata": {},
   "outputs": [],
   "source": [
    "from mozfldp.runner import Runner\n",
    "import warnings\n",
    "\n",
    "# hide the warning message temporarily\n",
    "warnings.simplefilter(\"ignore\")\n",
    "\n",
    "# auto-reload the modules everytime a cell is run\n",
    "%load_ext autoreload\n",
    "%autoreload 2"
   ]
  },
  {
   "cell_type": "markdown",
   "metadata": {},
   "source": [
    "### Overly simple json generator\n",
    "Since the runner needs to be initialised with json parameter data, here's a simple function that converts a dictionary to a json string:"
   ]
  },
  {
   "cell_type": "code",
   "execution_count": 4,
   "metadata": {},
   "outputs": [],
   "source": [
    "import json\n",
    "\n",
    "def gen_param_json_from_param_dict(param_dict):\n",
    "    return json.dumps(param_dict)        "
   ]
  },
  {
   "cell_type": "markdown",
   "metadata": {},
   "source": [
    "### Example: Running Federated Learning with Different Types of Data\n",
    "\n",
    "Before we can run a simulation, we need to initialise the runner with the parameters that the simulation requires: "
   ]
  },
  {
   "cell_type": "code",
   "execution_count": 5,
   "metadata": {},
   "outputs": [],
   "source": [
    "blob_data_file_path = \"../datasets/blob_S20000_L3_F4_U100.csv\"\n",
    "\n",
    "params_dict = {\n",
    "    Runner.P_KEY_NUM_SAMPLES: 20000,\n",
    "    Runner.P_KEY_NUM_LABELS: 3,\n",
    "    Runner.P_KEY_NUM_FEATURES: 4,\n",
    "    Runner.P_KEY_NUM_USERS: 100,\n",
    "    Runner.P_KEY_NUM_ROUNDS: 10,\n",
    "    Runner.P_KEY_BATCH_SIZE: 40,\n",
    "    Runner.P_KEY_NUM_EPOCHS: 5,\n",
    "    Runner.P_KEY_DATA_FILE_PATH: blob_data_file_path\n",
    "}\n",
    "\n",
    "json_params = gen_param_json_from_param_dict(params_dict)"
   ]
  },
  {
   "cell_type": "markdown",
   "metadata": {},
   "source": [
    "With the JSON data, we're ready to run the simulation. Now we just need to construct the runner object and specify the data generation tpe\n",
    "\n",
    "It's fine to run multiple simulations with a single runner object."
   ]
  },
  {
   "cell_type": "code",
   "execution_count": 6,
   "metadata": {},
   "outputs": [
    {
     "name": "stdout",
     "output_type": "stream",
     "text": [
      "Generating \"file_data\" data...\n",
      "Running the \"fed_learning\" simulation...\n",
      "Training...\n",
      "Params:  {'batch_size': 40, 'client_fraction': 1, 'epoch': 1, 'init_weight': [array([[0., 0., 0., 0.],\n",
      "       [0., 0., 0., 0.],\n",
      "       [0., 0., 0., 0.]]), array([0., 0., 0.])], 'num_rounds': 10}\n",
      "Weights: [array([[  8.54532063,   7.82089269,  29.49457314, -23.32593632],\n",
      "       [  9.93770931,  13.18949357,  17.122823  , -11.74163883],\n",
      "       [  6.35383613,  15.17395173,  15.24845932,  -8.67429477]]), array([-263.90984314, -274.75956805, -271.98399375])]\n",
      "Score: 0.329375\n",
      "\n",
      "\n",
      "Training...\n",
      "Params:  {'batch_size': 40, 'client_fraction': 1, 'epoch': 5, 'init_weight': [array([[0., 0., 0., 0.],\n",
      "       [0., 0., 0., 0.],\n",
      "       [0., 0., 0., 0.]]), array([0., 0., 0.])], 'num_rounds': 10}\n",
      "Weights: [array([[16.77137289, 15.33897543, 38.67268757,  0.45251152],\n",
      "       [-3.93402724, 22.71049898, 21.34006711, -4.61340198],\n",
      "       [-5.17736568, 14.50690693,  8.78080495, -3.859678  ]]), array([-279.69500973, -281.338332  , -270.79566351])]\n",
      "Score: 0.333125\n",
      "\n",
      "\n",
      "Training...\n",
      "Params:  {'batch_size': 40, 'client_fraction': 0.1, 'epoch': 1, 'init_weight': [array([[0., 0., 0., 0.],\n",
      "       [0., 0., 0., 0.],\n",
      "       [0., 0., 0., 0.]]), array([0., 0., 0.])], 'num_rounds': 10}\n",
      "Weights: [array([[ 14.08045376,  25.21805106,  38.49241316, -24.6919739 ],\n",
      "       [ 24.99794364,  23.14465322,  25.5041507 ,  20.42538031],\n",
      "       [ -5.6565186 ,  29.70499941, -24.45510034, -11.66546096]]), array([-259.92044834, -288.68417343, -233.25647562])]\n",
      "Score: 0.337750\n",
      "\n",
      "\n",
      "Training...\n",
      "Params:  {'batch_size': 40, 'client_fraction': 0.1, 'epoch': 5, 'init_weight': [array([[0., 0., 0., 0.],\n",
      "       [0., 0., 0., 0.],\n",
      "       [0., 0., 0., 0.]]), array([0., 0., 0.])], 'num_rounds': 10}\n",
      "Weights: [array([[ 27.49832787, -25.75484793,  55.94719058, -38.38375019],\n",
      "       [  7.3294495 , -21.5963135 ,  18.33243936, -41.0992191 ],\n",
      "       [-33.67884164,  35.2206719 ,  -3.16308347, -25.54268811]]), array([-243.01115506, -241.5914701 , -304.44977186])]\n",
      "Score: 0.337125\n",
      "\n",
      "\n",
      "Finished!\n"
     ]
    }
   ],
   "source": [
    "_ = Runner(json_params, Runner.SIM_TYPE_FED_LEARNING, Runner.DATA_GEN_TYPE_DATA_FROM_FILE)"
   ]
  },
  {
   "cell_type": "markdown",
   "metadata": {},
   "source": [
    "### Missing Parameters for a Run\n",
    "If the simulation/data generation is missing any required parameters, you will get an exception like this:"
   ]
  },
  {
   "cell_type": "code",
   "execution_count": 7,
   "metadata": {},
   "outputs": [
    {
     "ename": "RunnerException",
     "evalue": "Can not run fed_learning because the following required parameters are missing: \n- batch_size\n- num_rounds\n- num_epochs",
     "output_type": "error",
     "traceback": [
      "\u001b[0;31m---------------------------------------------------------------------------\u001b[0m",
      "\u001b[0;31mRunnerException\u001b[0m                           Traceback (most recent call last)",
      "\u001b[0;32m<ipython-input-7-2280951f9540>\u001b[0m in \u001b[0;36m<module>\u001b[0;34m\u001b[0m\n\u001b[1;32m      7\u001b[0m \u001b[0;34m\u001b[0m\u001b[0m\n\u001b[1;32m      8\u001b[0m \u001b[0mjson_params\u001b[0m \u001b[0;34m=\u001b[0m \u001b[0mgen_param_json_from_param_dict\u001b[0m\u001b[0;34m(\u001b[0m\u001b[0mparams_dict\u001b[0m\u001b[0;34m)\u001b[0m\u001b[0;34m\u001b[0m\u001b[0;34m\u001b[0m\u001b[0m\n\u001b[0;32m----> 9\u001b[0;31m \u001b[0m_\u001b[0m \u001b[0;34m=\u001b[0m \u001b[0mRunner\u001b[0m\u001b[0;34m(\u001b[0m\u001b[0mjson_params\u001b[0m\u001b[0;34m,\u001b[0m \u001b[0mRunner\u001b[0m\u001b[0;34m.\u001b[0m\u001b[0mSIM_TYPE_FED_LEARNING\u001b[0m\u001b[0;34m,\u001b[0m \u001b[0mRunner\u001b[0m\u001b[0;34m.\u001b[0m\u001b[0mDATA_GEN_TYPE_DATA_FROM_FILE\u001b[0m\u001b[0;34m)\u001b[0m\u001b[0;34m\u001b[0m\u001b[0;34m\u001b[0m\u001b[0m\n\u001b[0m",
      "\u001b[0;32m~/dev/CANOSP-2019/mozfldp/runner.py\u001b[0m in \u001b[0;36m__init__\u001b[0;34m(self, param_json, s_type, d_type)\u001b[0m\n\u001b[1;32m    173\u001b[0m         \u001b[0mg_run_func\u001b[0m\u001b[0;34m,\u001b[0m \u001b[0mg_prq_prms\u001b[0m \u001b[0;34m=\u001b[0m \u001b[0mRunner\u001b[0m\u001b[0;34m.\u001b[0m\u001b[0m_data_gen_run_func_ltable\u001b[0m\u001b[0;34m[\u001b[0m\u001b[0md_type\u001b[0m\u001b[0;34m]\u001b[0m\u001b[0;34m\u001b[0m\u001b[0;34m\u001b[0m\u001b[0m\n\u001b[1;32m    174\u001b[0m \u001b[0;34m\u001b[0m\u001b[0m\n\u001b[0;32m--> 175\u001b[0;31m         \u001b[0mself\u001b[0m\u001b[0;34m.\u001b[0m\u001b[0m_verify_sim_has_required_params_for_given_run_func\u001b[0m\u001b[0;34m(\u001b[0m\u001b[0ms_prq_prms\u001b[0m\u001b[0;34m,\u001b[0m \u001b[0ms_type\u001b[0m\u001b[0;34m)\u001b[0m\u001b[0;34m\u001b[0m\u001b[0;34m\u001b[0m\u001b[0m\n\u001b[0m\u001b[1;32m    176\u001b[0m         \u001b[0mself\u001b[0m\u001b[0;34m.\u001b[0m\u001b[0m_verify_sim_has_required_params_for_given_run_func\u001b[0m\u001b[0;34m(\u001b[0m\u001b[0mg_prq_prms\u001b[0m\u001b[0;34m,\u001b[0m \u001b[0md_type\u001b[0m\u001b[0;34m)\u001b[0m\u001b[0;34m\u001b[0m\u001b[0;34m\u001b[0m\u001b[0m\n\u001b[1;32m    177\u001b[0m \u001b[0;34m\u001b[0m\u001b[0m\n",
      "\u001b[0;32m~/dev/CANOSP-2019/mozfldp/runner.py\u001b[0m in \u001b[0;36m_verify_sim_has_required_params_for_given_run_func\u001b[0;34m(self, run_func_params, run_func_key)\u001b[0m\n\u001b[1;32m    199\u001b[0m             \u001b[0mex_msg\u001b[0m \u001b[0;34m+=\u001b[0m \u001b[0;34m\"\\n- {}\"\u001b[0m\u001b[0;34m.\u001b[0m\u001b[0mformat\u001b[0m\u001b[0;34m(\u001b[0m\u001b[0mmissing_p\u001b[0m\u001b[0;34m)\u001b[0m\u001b[0;34m\u001b[0m\u001b[0;34m\u001b[0m\u001b[0m\n\u001b[1;32m    200\u001b[0m \u001b[0;34m\u001b[0m\u001b[0m\n\u001b[0;32m--> 201\u001b[0;31m         \u001b[0;32mraise\u001b[0m \u001b[0mRunnerException\u001b[0m\u001b[0;34m(\u001b[0m\u001b[0mex_msg\u001b[0m\u001b[0;34m)\u001b[0m\u001b[0;34m\u001b[0m\u001b[0;34m\u001b[0m\u001b[0m\n\u001b[0m",
      "\u001b[0;31mRunnerException\u001b[0m: Can not run fed_learning because the following required parameters are missing: \n- batch_size\n- num_rounds\n- num_epochs"
     ]
    }
   ],
   "source": [
    "params_dict = {\n",
    "    Runner.P_KEY_NUM_SAMPLES: 20000,\n",
    "    Runner.P_KEY_NUM_LABELS: 3,\n",
    "    Runner.P_KEY_NUM_FEATURES: 4,\n",
    "    Runner.P_KEY_NUM_USERS: 100\n",
    "}\n",
    "\n",
    "json_params = gen_param_json_from_param_dict(params_dict)\n",
    "_ = Runner(json_params, Runner.SIM_TYPE_FED_LEARNING, Runner.DATA_GEN_TYPE_DATA_FROM_FILE)"
   ]
  },
  {
   "cell_type": "code",
   "execution_count": null,
   "metadata": {},
   "outputs": [],
   "source": []
  }
 ],
 "metadata": {
  "kernelspec": {
   "display_name": "Python 3",
   "language": "python",
   "name": "python3"
  },
  "language_info": {
   "codemirror_mode": {
    "name": "ipython",
    "version": 3
   },
   "file_extension": ".py",
   "mimetype": "text/x-python",
   "name": "python",
   "nbconvert_exporter": "python",
   "pygments_lexer": "ipython3",
   "version": "3.7.4"
  }
 },
 "nbformat": 4,
 "nbformat_minor": 4
}
